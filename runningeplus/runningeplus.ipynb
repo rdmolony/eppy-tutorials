{
 "cells": [
  {
   "cell_type": "code",
   "execution_count": 1,
   "metadata": {},
   "outputs": [],
   "source": [
    "from eppy.modeleditor import IDF\n",
    "\n",
    "iddfile = \"/usr/local/bin/Energy+.idd\"\n",
    "IDF.setiddname(iddfile)"
   ]
  },
  {
   "cell_type": "code",
   "execution_count": 2,
   "metadata": {},
   "outputs": [],
   "source": [
    "idfname = \"Exercise1A.idf\"\n",
    "epwfile = \"USA_IL_Chicago-OHare.Intl.AP.725300_TMY3.epw\"\n",
    "idf = IDF(idfname, epwfile)"
   ]
  },
  {
   "cell_type": "code",
   "execution_count": 3,
   "metadata": {},
   "outputs": [
    {
     "name": "stdout",
     "output_type": "stream",
     "text": [
      "\r\n",
      "/usr/local/bin/energyplus --weather /geomeppy-tutorials/USA_IL_Chicago-OHare.Intl.AP.725300_TMY3.epw --output-directory /geomeppy-tutorials/outputs --idd /usr/local/bin/Energy+.idd /geomeppy-tutorials/in.idf\r\n",
      "\n"
     ]
    }
   ],
   "source": [
    "idf.run(output_directory=\"outputs\")"
   ]
  }
 ],
 "metadata": {
  "kernelspec": {
   "display_name": "Python 3",
   "language": "python",
   "name": "python3"
  },
  "language_info": {
   "codemirror_mode": {
    "name": "ipython",
    "version": 3
   },
   "file_extension": ".py",
   "mimetype": "text/x-python",
   "name": "python",
   "nbconvert_exporter": "python",
   "pygments_lexer": "ipython3",
   "version": "3.7.9"
  }
 },
 "nbformat": 4,
 "nbformat_minor": 4
}
